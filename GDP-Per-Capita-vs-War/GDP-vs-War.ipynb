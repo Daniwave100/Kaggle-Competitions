{
 "cells": [
  {
   "metadata": {},
   "cell_type": "markdown",
   "source": "# The Effect of War on GDP-per-capita: An Exploratory Data Analysis",
   "id": "304dbaf7b40fa97d"
  },
  {
   "metadata": {},
   "cell_type": "markdown",
   "source": [
    "According to Investopedia, GDP-per-capita is an economic metric that breaks down a country's economic output to per-person allocation. Economists frequently use GDP-per-capita to determine the overall economic prosperity of countries. In other words, GDP is a solid general metric of how well a country is doing economically.\n",
    "\n",
    "GDP-per-capita is calculated by: Country's Total Gross Domestic Product (GDP) / Population\n",
    "Ex. (calculated in USD):\n",
    "\n",
    "Switzerland GDP = 884.9B\n",
    "     Population = 8.85B\n",
    " GDP-per-capita = 99.9K\n",
    "\n",
    "In this Exploratory Data Analysis project, we will explore the effect of war and conflict on the GDP of different countries throughout the 20th and 21st centuries.\n"
   ],
   "id": "dc57da7a234a7c23"
  },
  {
   "metadata": {},
   "cell_type": "code",
   "outputs": [],
   "execution_count": null,
   "source": [
    "# look at gdp of course\n",
    "# look into how the currency of a country changes\n",
    "# look at other metrics as well as you go\n",
    "# look at sub regions if possible\n",
    "# look at USA and draw conclusions"
   ],
   "id": "a1b6d355ac8d2499"
  },
  {
   "metadata": {
    "ExecuteTime": {
     "end_time": "2025-02-20T00:01:45.946305Z",
     "start_time": "2025-02-20T00:01:45.927279Z"
    }
   },
   "cell_type": "code",
   "source": [
    "import pandas as pd\n",
    "pib_countries = pd.read_csv(\"pib_per_capita_countries_dataset.csv\")\n",
    "pib_countries.head()\n",
    "pib_countries[pib_countries[\"country_name\"] == \"IRAQ\"]"
   ],
   "id": "885992b3b44bba9",
   "outputs": [
    {
     "data": {
      "text/plain": [
       "     country_code country_name  \\\n",
       "5824          IRQ         IRAQ   \n",
       "5825          IRQ         IRAQ   \n",
       "5826          IRQ         IRAQ   \n",
       "5827          IRQ         IRAQ   \n",
       "5828          IRQ         IRAQ   \n",
       "...           ...          ...   \n",
       "5883          IRQ         IRAQ   \n",
       "5884          IRQ         IRAQ   \n",
       "5885          IRQ         IRAQ   \n",
       "5886          IRQ         IRAQ   \n",
       "5887          IRQ         IRAQ   \n",
       "\n",
       "                                                 region    sub_region  \\\n",
       "5824  ORIENTE MEDIO Y NORTE DE ÁFRICA (EXCLUIDO ALTO...  WESTERN ASIA   \n",
       "5825  ORIENTE MEDIO Y NORTE DE ÁFRICA (EXCLUIDO ALTO...  WESTERN ASIA   \n",
       "5826  ORIENTE MEDIO Y NORTE DE ÁFRICA (EXCLUIDO ALTO...  WESTERN ASIA   \n",
       "5827  ORIENTE MEDIO Y NORTE DE ÁFRICA (EXCLUIDO ALTO...  WESTERN ASIA   \n",
       "5828  ORIENTE MEDIO Y NORTE DE ÁFRICA (EXCLUIDO ALTO...  WESTERN ASIA   \n",
       "...                                                 ...           ...   \n",
       "5883  ORIENTE MEDIO Y NORTE DE ÁFRICA (EXCLUIDO ALTO...  WESTERN ASIA   \n",
       "5884  ORIENTE MEDIO Y NORTE DE ÁFRICA (EXCLUIDO ALTO...  WESTERN ASIA   \n",
       "5885  ORIENTE MEDIO Y NORTE DE ÁFRICA (EXCLUIDO ALTO...  WESTERN ASIA   \n",
       "5886  ORIENTE MEDIO Y NORTE DE ÁFRICA (EXCLUIDO ALTO...  WESTERN ASIA   \n",
       "5887  ORIENTE MEDIO Y NORTE DE ÁFRICA (EXCLUIDO ALTO...  WESTERN ASIA   \n",
       "\n",
       "     intermediate_region  indicator_code  \\\n",
       "5824                 NaN  NY.GDP.PCAP.CD   \n",
       "5825                 NaN  NY.GDP.PCAP.CD   \n",
       "5826                 NaN  NY.GDP.PCAP.CD   \n",
       "5827                 NaN  NY.GDP.PCAP.CD   \n",
       "5828                 NaN  NY.GDP.PCAP.CD   \n",
       "...                  ...             ...   \n",
       "5883                 NaN  NY.GDP.PCAP.CD   \n",
       "5884                 NaN  NY.GDP.PCAP.CD   \n",
       "5885                 NaN  NY.GDP.PCAP.CD   \n",
       "5886                 NaN  NY.GDP.PCAP.CD   \n",
       "5887                 NaN  NY.GDP.PCAP.CD   \n",
       "\n",
       "                               indicator_name  year  gdp_per_capita  \\\n",
       "5824  PIB PER CAPITA (US$ A PRECIOS ACTUALES)  1960      218.917803   \n",
       "5825  PIB PER CAPITA (US$ A PRECIOS ACTUALES)  1961      232.392612   \n",
       "5826  PIB PER CAPITA (US$ A PRECIOS ACTUALES)  1962      240.653442   \n",
       "5827  PIB PER CAPITA (US$ A PRECIOS ACTUALES)  1963      235.513624   \n",
       "5828  PIB PER CAPITA (US$ A PRECIOS ACTUALES)  1964      269.423093   \n",
       "...                                       ...   ...             ...   \n",
       "5883  PIB PER CAPITA (US$ A PRECIOS ACTUALES)  2019     5671.856863   \n",
       "5884  PIB PER CAPITA (US$ A PRECIOS ACTUALES)  2020     4295.189451   \n",
       "5885  PIB PER CAPITA (US$ A PRECIOS ACTUALES)  2021     4868.494311   \n",
       "5886  PIB PER CAPITA (US$ A PRECIOS ACTUALES)  2022     6504.124284   \n",
       "5887  PIB PER CAPITA (US$ A PRECIOS ACTUALES)  2023     5565.126446   \n",
       "\n",
       "      gdp_variation  \n",
       "5824       0.000000  \n",
       "5825       4.752460  \n",
       "5826       1.508903  \n",
       "5827      -0.946584  \n",
       "5828      11.037785  \n",
       "...             ...  \n",
       "5883       3.140439  \n",
       "5884     -13.967532  \n",
       "5885      -0.747456  \n",
       "5886       5.198980  \n",
       "5887            NaN  \n",
       "\n",
       "[64 rows x 10 columns]"
      ],
      "text/html": [
       "<div>\n",
       "<style scoped>\n",
       "    .dataframe tbody tr th:only-of-type {\n",
       "        vertical-align: middle;\n",
       "    }\n",
       "\n",
       "    .dataframe tbody tr th {\n",
       "        vertical-align: top;\n",
       "    }\n",
       "\n",
       "    .dataframe thead th {\n",
       "        text-align: right;\n",
       "    }\n",
       "</style>\n",
       "<table border=\"1\" class=\"dataframe\">\n",
       "  <thead>\n",
       "    <tr style=\"text-align: right;\">\n",
       "      <th></th>\n",
       "      <th>country_code</th>\n",
       "      <th>country_name</th>\n",
       "      <th>region</th>\n",
       "      <th>sub_region</th>\n",
       "      <th>intermediate_region</th>\n",
       "      <th>indicator_code</th>\n",
       "      <th>indicator_name</th>\n",
       "      <th>year</th>\n",
       "      <th>gdp_per_capita</th>\n",
       "      <th>gdp_variation</th>\n",
       "    </tr>\n",
       "  </thead>\n",
       "  <tbody>\n",
       "    <tr>\n",
       "      <th>5824</th>\n",
       "      <td>IRQ</td>\n",
       "      <td>IRAQ</td>\n",
       "      <td>ORIENTE MEDIO Y NORTE DE ÁFRICA (EXCLUIDO ALTO...</td>\n",
       "      <td>WESTERN ASIA</td>\n",
       "      <td>NaN</td>\n",
       "      <td>NY.GDP.PCAP.CD</td>\n",
       "      <td>PIB PER CAPITA (US$ A PRECIOS ACTUALES)</td>\n",
       "      <td>1960</td>\n",
       "      <td>218.917803</td>\n",
       "      <td>0.000000</td>\n",
       "    </tr>\n",
       "    <tr>\n",
       "      <th>5825</th>\n",
       "      <td>IRQ</td>\n",
       "      <td>IRAQ</td>\n",
       "      <td>ORIENTE MEDIO Y NORTE DE ÁFRICA (EXCLUIDO ALTO...</td>\n",
       "      <td>WESTERN ASIA</td>\n",
       "      <td>NaN</td>\n",
       "      <td>NY.GDP.PCAP.CD</td>\n",
       "      <td>PIB PER CAPITA (US$ A PRECIOS ACTUALES)</td>\n",
       "      <td>1961</td>\n",
       "      <td>232.392612</td>\n",
       "      <td>4.752460</td>\n",
       "    </tr>\n",
       "    <tr>\n",
       "      <th>5826</th>\n",
       "      <td>IRQ</td>\n",
       "      <td>IRAQ</td>\n",
       "      <td>ORIENTE MEDIO Y NORTE DE ÁFRICA (EXCLUIDO ALTO...</td>\n",
       "      <td>WESTERN ASIA</td>\n",
       "      <td>NaN</td>\n",
       "      <td>NY.GDP.PCAP.CD</td>\n",
       "      <td>PIB PER CAPITA (US$ A PRECIOS ACTUALES)</td>\n",
       "      <td>1962</td>\n",
       "      <td>240.653442</td>\n",
       "      <td>1.508903</td>\n",
       "    </tr>\n",
       "    <tr>\n",
       "      <th>5827</th>\n",
       "      <td>IRQ</td>\n",
       "      <td>IRAQ</td>\n",
       "      <td>ORIENTE MEDIO Y NORTE DE ÁFRICA (EXCLUIDO ALTO...</td>\n",
       "      <td>WESTERN ASIA</td>\n",
       "      <td>NaN</td>\n",
       "      <td>NY.GDP.PCAP.CD</td>\n",
       "      <td>PIB PER CAPITA (US$ A PRECIOS ACTUALES)</td>\n",
       "      <td>1963</td>\n",
       "      <td>235.513624</td>\n",
       "      <td>-0.946584</td>\n",
       "    </tr>\n",
       "    <tr>\n",
       "      <th>5828</th>\n",
       "      <td>IRQ</td>\n",
       "      <td>IRAQ</td>\n",
       "      <td>ORIENTE MEDIO Y NORTE DE ÁFRICA (EXCLUIDO ALTO...</td>\n",
       "      <td>WESTERN ASIA</td>\n",
       "      <td>NaN</td>\n",
       "      <td>NY.GDP.PCAP.CD</td>\n",
       "      <td>PIB PER CAPITA (US$ A PRECIOS ACTUALES)</td>\n",
       "      <td>1964</td>\n",
       "      <td>269.423093</td>\n",
       "      <td>11.037785</td>\n",
       "    </tr>\n",
       "    <tr>\n",
       "      <th>...</th>\n",
       "      <td>...</td>\n",
       "      <td>...</td>\n",
       "      <td>...</td>\n",
       "      <td>...</td>\n",
       "      <td>...</td>\n",
       "      <td>...</td>\n",
       "      <td>...</td>\n",
       "      <td>...</td>\n",
       "      <td>...</td>\n",
       "      <td>...</td>\n",
       "    </tr>\n",
       "    <tr>\n",
       "      <th>5883</th>\n",
       "      <td>IRQ</td>\n",
       "      <td>IRAQ</td>\n",
       "      <td>ORIENTE MEDIO Y NORTE DE ÁFRICA (EXCLUIDO ALTO...</td>\n",
       "      <td>WESTERN ASIA</td>\n",
       "      <td>NaN</td>\n",
       "      <td>NY.GDP.PCAP.CD</td>\n",
       "      <td>PIB PER CAPITA (US$ A PRECIOS ACTUALES)</td>\n",
       "      <td>2019</td>\n",
       "      <td>5671.856863</td>\n",
       "      <td>3.140439</td>\n",
       "    </tr>\n",
       "    <tr>\n",
       "      <th>5884</th>\n",
       "      <td>IRQ</td>\n",
       "      <td>IRAQ</td>\n",
       "      <td>ORIENTE MEDIO Y NORTE DE ÁFRICA (EXCLUIDO ALTO...</td>\n",
       "      <td>WESTERN ASIA</td>\n",
       "      <td>NaN</td>\n",
       "      <td>NY.GDP.PCAP.CD</td>\n",
       "      <td>PIB PER CAPITA (US$ A PRECIOS ACTUALES)</td>\n",
       "      <td>2020</td>\n",
       "      <td>4295.189451</td>\n",
       "      <td>-13.967532</td>\n",
       "    </tr>\n",
       "    <tr>\n",
       "      <th>5885</th>\n",
       "      <td>IRQ</td>\n",
       "      <td>IRAQ</td>\n",
       "      <td>ORIENTE MEDIO Y NORTE DE ÁFRICA (EXCLUIDO ALTO...</td>\n",
       "      <td>WESTERN ASIA</td>\n",
       "      <td>NaN</td>\n",
       "      <td>NY.GDP.PCAP.CD</td>\n",
       "      <td>PIB PER CAPITA (US$ A PRECIOS ACTUALES)</td>\n",
       "      <td>2021</td>\n",
       "      <td>4868.494311</td>\n",
       "      <td>-0.747456</td>\n",
       "    </tr>\n",
       "    <tr>\n",
       "      <th>5886</th>\n",
       "      <td>IRQ</td>\n",
       "      <td>IRAQ</td>\n",
       "      <td>ORIENTE MEDIO Y NORTE DE ÁFRICA (EXCLUIDO ALTO...</td>\n",
       "      <td>WESTERN ASIA</td>\n",
       "      <td>NaN</td>\n",
       "      <td>NY.GDP.PCAP.CD</td>\n",
       "      <td>PIB PER CAPITA (US$ A PRECIOS ACTUALES)</td>\n",
       "      <td>2022</td>\n",
       "      <td>6504.124284</td>\n",
       "      <td>5.198980</td>\n",
       "    </tr>\n",
       "    <tr>\n",
       "      <th>5887</th>\n",
       "      <td>IRQ</td>\n",
       "      <td>IRAQ</td>\n",
       "      <td>ORIENTE MEDIO Y NORTE DE ÁFRICA (EXCLUIDO ALTO...</td>\n",
       "      <td>WESTERN ASIA</td>\n",
       "      <td>NaN</td>\n",
       "      <td>NY.GDP.PCAP.CD</td>\n",
       "      <td>PIB PER CAPITA (US$ A PRECIOS ACTUALES)</td>\n",
       "      <td>2023</td>\n",
       "      <td>5565.126446</td>\n",
       "      <td>NaN</td>\n",
       "    </tr>\n",
       "  </tbody>\n",
       "</table>\n",
       "<p>64 rows × 10 columns</p>\n",
       "</div>"
      ]
     },
     "execution_count": 30,
     "metadata": {},
     "output_type": "execute_result"
    }
   ],
   "execution_count": 30
  },
  {
   "metadata": {
    "ExecuteTime": {
     "end_time": "2025-02-19T23:50:52.901717Z",
     "start_time": "2025-02-19T23:50:52.849572Z"
    }
   },
   "cell_type": "code",
   "source": [
    "import matplotlib.pyplot as plt\n",
    "import seaborn as sns\n",
    "pib_iraq = pib_countries[pib_countries[\"country_name\"] == \"IRAQ\"]\n",
    "pib_iraq.head()\n",
    "\n",
    "plt.plot(pib_iraq[\"year\"], pib_iraq[\"gdp_per_capita\"])"
   ],
   "id": "ae2aba3efdd97565",
   "outputs": [
    {
     "data": {
      "text/plain": [
       "[<matplotlib.lines.Line2D at 0x168073a40>]"
      ]
     },
     "execution_count": 26,
     "metadata": {},
     "output_type": "execute_result"
    },
    {
     "data": {
      "text/plain": [
       "<Figure size 640x480 with 1 Axes>"
      ],
      "image/png": "[encoded data removed]"
     },
     "metadata": {},
     "output_type": "display_data"
    }
   ],
   "execution_count": 26
  },
  {
   "metadata": {
    "ExecuteTime": {
     "end_time": "2025-02-20T00:18:26.461482Z",
     "start_time": "2025-02-20T00:18:26.404720Z"
    }
   },
   "cell_type": "code",
   "source": [
    "import matplotlib.pyplot as plt\n",
    "import seaborn as sns\n",
    "\n",
    "\n",
    "\n",
    "pib_syria = pib_countries[pib_countries[\"country_name\"] == \"REPUBLICA ARABE SIRIA\"]\n",
    "pib_syria.head()\n",
    "\n",
    "plt.plot(pib_syria[\"year\"], pib_syria[\"gdp_per_capita\"])\n",
    "\n"
   ],
   "id": "c2cd85d5e30e035b",
   "outputs": [
    {
     "data": {
      "text/plain": [
       "[<matplotlib.lines.Line2D at 0x16a583920>]"
      ]
     },
     "execution_count": 58,
     "metadata": {},
     "output_type": "execute_result"
    },
    {
     "data": {
      "text/plain": [
       "<Figure size 640x480 with 1 Axes>"
      ],
      "image/png": "[encoded data removed]"
     },
     "metadata": {},
     "output_type": "display_data"
    }
   ],
   "execution_count": 58
  },
  {
   "metadata": {},
   "cell_type": "code",
   "outputs": [],
   "execution_count": null,
   "source": "# keep adding",
   "id": "3cc1909afc2c1f89"
  },
  {
   "metadata": {},
   "cell_type": "code",
   "outputs": [],
   "execution_count": null,
   "source": "",
   "id": "2768333d02ccd6ec"
  }
 ],
 "metadata": {
  "kernelspec": {
   "display_name": "Python 3",
   "language": "python",
   "name": "python3"
  },
  "language_info": {
   "codemirror_mode": {
    "name": "ipython",
    "version": 2
   },
   "file_extension": ".py",
   "mimetype": "text/x-python",
   "name": "python",
   "nbconvert_exporter": "python",
   "pygments_lexer": "ipython2",
   "version": "2.7.6"
  }
 },
 "nbformat": 4,
 "nbformat_minor": 5
}
